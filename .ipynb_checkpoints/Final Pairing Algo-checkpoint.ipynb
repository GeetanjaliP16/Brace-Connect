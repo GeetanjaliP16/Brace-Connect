{
 "cells": [
  {
   "cell_type": "code",
   "execution_count": 51,
   "metadata": {},
   "outputs": [
    {
     "name": "stdout",
     "output_type": "stream",
     "text": [
      "\n",
      "------ Fetching/Reading The Data From The Data Set\n",
      "   Unnamed: 0                        name                email pronouns  AD  \\\n",
      "0           0                ishita gupta  igsoul133@gmail.com      sww   0   \n",
      "1           1  airport school , ahmedabad                   m,        m   0   \n",
      "2           2           Ganpat University                    m      NaN   0   \n",
      "3           3                           j                 kklk      NaN   0   \n",
      "4           4                         kll                   bn      NaN   0   \n",
      "\n",
      "   AI  coding  CS  CyS  DS  IT  IOS  robotics  SE  UI  WD dropdownMenuButton  \\\n",
      "0   0  coding   0    0   0   0    0         0   0   0  WD                ACT   \n",
      "1   0       0   0  CyS   0  IT    0         0   0   0   0                EAT   \n",
      "2   0  coding   0    0   0   0  IOS  robotics   0   0   0                ACT   \n",
      "3   0       0   0    0   0  IT  IOS         0   0   0   0                ACT   \n",
      "4   0       0   0    0  DS   0    0         0  SE   0   0                IST   \n",
      "\n",
      "   Bio  Availability  \n",
      "0  NaN            44  \n",
      "1  NaN             7  \n",
      "2  NaN             8  \n",
      "3  NaN             6  \n",
      "4  NaN             3  \n",
      "   Unnamed: 0              name2               email2 pronouns2  AD2  AI2  \\\n",
      "0           0       ishita gupta  igsoul133@gmail.com        m,    0    0   \n",
      "1           1  Ganpat University                 mnnj       NaN    0    0   \n",
      "\n",
      "   coding2 CS2  CyS2  DS2  IT2 IOS2 robotics2 SE2  UI2  WD2  \\\n",
      "0        0  CS     0    0    0    0         0  SE    0    0   \n",
      "1        0   0     0    0    0  IOS  robotics   0    0    0   \n",
      "\n",
      "  dropdownMenuButton2 Bio2  Availability2  goals2  \n",
      "0                 MET   mm              7     NaN  \n",
      "1                 IST  NaN              8     NaN  \n"
     ]
    }
   ],
   "source": [
    "import pandas as pd\n",
    "import numpy as np  \n",
    "\n",
    "print(\"\\n------ Fetching/Reading The Data From The Data Set\")\n",
    "mentor = pd.read_csv('MentorDataframe.csv')\n",
    "mentee = pd.read_csv('MenteeDataframe.csv')\n",
    "print(mentor.head()) \n",
    "print(mentee.head()) \n",
    "\n"
   ]
  },
  {
   "cell_type": "code",
   "execution_count": 52,
   "metadata": {},
   "outputs": [],
   "source": [
    "mentorFields=[]\n",
    "\n",
    "mentorFields.append(mentor[\"AD\"])\n",
    "mentorFields.append(mentor[\"AI\"])\n",
    "mentorFields.append(mentor[\"coding\"])\n",
    "mentorFields.append(mentor[\"CS\"])\n",
    "mentorFields.append(mentor[\"CyS\"])\n",
    "mentorFields.append(mentor[\"DS\"])\n",
    "mentorFields.append(mentor[\"IT\"])\n",
    "mentorFields.append(mentor[\"IOS\"])\n",
    "mentorFields.append(mentor[\"robotics\"])\n",
    "mentorFields.append(mentor[\"SE\"])\n",
    "mentorFields.append(mentor[\"UI\"])\n",
    "mentorFields.append(mentor[\"WD\"])\n",
    "\n",
    "#mentorFields[7]"
   ]
  },
  {
   "cell_type": "code",
   "execution_count": 53,
   "metadata": {},
   "outputs": [],
   "source": [
    "\n",
    "menteeFields=[]\n",
    "\n",
    "menteeFields.append(mentee[\"AD2\"])\n",
    "menteeFields.append(mentee[\"AI2\"])\n",
    "menteeFields.append(mentee[\"coding2\"])\n",
    "menteeFields.append(mentee[\"CS2\"])\n",
    "menteeFields.append(mentee[\"CyS2\"])\n",
    "menteeFields.append(mentee[\"DS2\"])\n",
    "menteeFields.append(mentee[\"IT2\"])\n",
    "menteeFields.append(mentee[\"IOS2\"])\n",
    "menteeFields.append(mentee[\"robotics2\"])\n",
    "menteeFields.append(mentee[\"SE2\"])\n",
    "menteeFields.append(mentee[\"UI2\"])\n",
    "menteeFields.append(mentee[\"WD2\"])\n",
    "#menteeFields[7]"
   ]
  },
  {
   "cell_type": "code",
   "execution_count": 54,
   "metadata": {},
   "outputs": [
    {
     "name": "stdout",
     "output_type": "stream",
     "text": [
      "\n",
      " [[0, 0, 0, 0, 0], [0, 0, 0, 0, 0]]\n",
      "\n",
      " [[0, 0, 0, 0, 0], [0, 0, 0, 0, 0]]\n",
      "\n",
      " [[0, 0, 0, 0, 0], [0, 0, 0, 0, 0]]\n",
      "\n",
      " [[0, 0, 0, 0, 0], [0, 0, 0, 0, 0]]\n",
      "\n",
      " [[0, 0, 0, 0, 0], [0, 0, 0, 0, 0]]\n",
      "\n",
      " [[0, 0, 0, 0, 0], [0, 0, 0, 0, 0]]\n",
      "\n",
      " [[0, 0, 0, 0, 0], [0, 0, 0, 0, 0]]\n",
      "\n",
      " [[0, 0, 0, 0, 0], [0, 0, 1, 1, 0]]\n",
      "\n",
      " [[0, 0, 0, 0, 0], [0, 0, 1, 0, 0]]\n",
      "\n",
      " [[0, 0, 0, 0, 1], [0, 0, 0, 0, 0]]\n",
      "\n",
      " [[0, 0, 0, 0, 0], [0, 0, 0, 0, 0]]\n",
      "\n",
      " [[0, 0, 0, 0, 0], [0, 0, 0, 0, 0]]\n",
      "\n",
      "******************\n",
      " [[[0, 0, 0, 0, 0], [0, 0, 0, 0, 0]], [[0, 0, 0, 0, 0], [0, 0, 0, 0, 0]], [[0, 0, 0, 0, 0], [0, 0, 0, 0, 0]], [[0, 0, 0, 0, 0], [0, 0, 0, 0, 0]], [[0, 0, 0, 0, 0], [0, 0, 0, 0, 0]], [[0, 0, 0, 0, 0], [0, 0, 0, 0, 0]], [[0, 0, 0, 0, 0], [0, 0, 0, 0, 0]], [[0, 0, 0, 0, 0], [0, 0, 1, 1, 0]], [[0, 0, 0, 0, 0], [0, 0, 1, 0, 0]], [[0, 0, 0, 0, 1], [0, 0, 0, 0, 0]], [[0, 0, 0, 0, 0], [0, 0, 0, 0, 0]], [[0, 0, 0, 0, 0], [0, 0, 0, 0, 0]]]\n"
     ]
    },
    {
     "data": {
      "text/plain": [
       "'Menteerows, Mentorcols = (len(menteeFields[9]),len(mentorFields[9]))\\narr=[]\\nfor i in range(Menteerows):\\n    col = []\\n    for j in range(Mentorcols):\\n        if (menteeFields[9][i]==mentorFields[9][j] and menteeFields[9][i] !=\\'0\\' and mentorFields[9][j] !=\\'0\\'):\\n            col.append(1)\\n        else :\\n            col.append(0)\\n    arr.append(col)\\nprint(\"\\n\",arr)'"
      ]
     },
     "execution_count": 54,
     "metadata": {},
     "output_type": "execute_result"
    }
   ],
   "source": [
    "MatchFields=[]\n",
    "for m in range (len(menteeFields)):\n",
    "    Menteerows, Mentorcols = (len(menteeFields[m]),len(mentorFields[m]))\n",
    "    arr=[]\n",
    "    for i in range(Menteerows):\n",
    "        col = []\n",
    "        for j in range(Mentorcols):\n",
    "            if (menteeFields[m][i]==mentorFields[m][j] and menteeFields[m][i] !=0 and menteeFields[m][i] !='0' and mentorFields[m][j] !=0 and mentorFields[m][j] !='0'):\n",
    "                col.append(1)\n",
    "            else :\n",
    "                col.append(0)\n",
    "        arr.append(col)\n",
    "    MatchFields.append(arr)\n",
    "    print(\"\\n\",arr)\n",
    "print(\"\\n******************\\n\",MatchFields)\n",
    "# rows=no of fields\n",
    "#columns=No of mentees\n",
    "# columns in the sub-array =no of mentors\n",
    "\n",
    "#creating a 2D array\n",
    "'''Menteerows, Mentorcols = (len(menteeFields[9]),len(mentorFields[9]))\n",
    "arr=[]\n",
    "for i in range(Menteerows):\n",
    "    col = []\n",
    "    for j in range(Mentorcols):\n",
    "        if (menteeFields[9][i]==mentorFields[9][j] and menteeFields[9][i] !='0' and mentorFields[9][j] !='0'):\n",
    "            col.append(1)\n",
    "        else :\n",
    "            col.append(0)\n",
    "    arr.append(col)\n",
    "print(\"\\n\",arr)'''\n",
    "# rows=no of mentees\n",
    "#columns=No of mentors\n",
    "\n",
    "                   "
   ]
  },
  {
   "cell_type": "code",
   "execution_count": 55,
   "metadata": {},
   "outputs": [],
   "source": [
    "# importing library\n",
    "arr = np.array(MatchFields)\n",
    "column_sums = arr.sum(axis=0)\n",
    "#column_sums\n"
   ]
  },
  {
   "cell_type": "code",
   "execution_count": 56,
   "metadata": {},
   "outputs": [
    {
     "name": "stdout",
     "output_type": "stream",
     "text": [
      "[[1 3 1 1 2]\n",
      " [1 2 1 1 3]]\n"
     ]
    }
   ],
   "source": [
    "timezone= [\n",
    "['GMT',0],\n",
    "['UTC',0],\n",
    "['ECT',1],\n",
    "['EET',2],\n",
    "['ART',2],\n",
    "['EAT',3],\n",
    "['MET',3.5],\n",
    "['NET',4],\n",
    "['PLT',5],\n",
    "['IST',5.5],\n",
    "['BST',6],\n",
    "['VST',7],\n",
    "['CTT',8],\n",
    "['JST',9],\n",
    "['ACT',9.5],\n",
    "['AET',10],\n",
    "['SST',11],\n",
    "['NST',12],\n",
    "['MIT',-11],\n",
    "['HST',-10],\n",
    "['AST',-9],\n",
    "['PST',-8],\n",
    "['PNT',-7],\n",
    "['MST',-7],\n",
    "['CST',-6],\n",
    "['EST',-5],\n",
    "['IET',-5],\n",
    "['PRT',-4],\n",
    "['CNT',-3.5],\n",
    "['AGT',-3],\n",
    "['BET',-3],\n",
    "['CAT',-1]]\n",
    "\n",
    "mentorTimezone=list(mentor['dropdownMenuButton'])\n",
    "menteeTimezone=list(mentee['dropdownMenuButton2'])\n",
    "mentorTimezone\n",
    "menteeTimezone\n",
    "\n",
    "\n",
    "aTime=[]\n",
    "bTime=[]\n",
    "for i in range(len(mentorTimezone)):\n",
    "    for t in range(len(timezone)):\n",
    "        if (timezone[t][0]==mentorTimezone[i]):\n",
    "            aTime.append(timezone[t][1])\n",
    "\n",
    "for i in range(len(menteeTimezone)):\n",
    "    for t in range(len(timezone)):\n",
    "        if (timezone[t][0]==menteeTimezone[i]):\n",
    "            bTime.append(timezone[t][1])\n",
    "\n",
    "#print('aTime',aTime)\n",
    "#print('bTime',bTime)\n",
    "\n",
    "#creating a 2D array\n",
    "rows, cols = (len(bTime), len(aTime))\n",
    "arr=[]\n",
    "for i in range(rows):\n",
    "    col = []\n",
    "    for j in range(cols):\n",
    "        col.append(abs(aTime[j]-bTime[i]))\n",
    "    arr.append(col)\n",
    "#print(\"\\n\",arr)\n",
    "# Ranking of array in reverse order\n",
    "timeRank=[]\n",
    "from scipy.stats import rankdata\n",
    "for i in range (len(arr)) :\n",
    "    timeRank.append(rankdata(arr[i], method='dense'))\n",
    "#print(timeRank) #Ranked 2D array'''\n",
    "\n",
    "timeRank2=[]\n",
    "for i in range (len(timeRank)) :\n",
    "    timeRank2.append(max(timeRank[i]) - rankdata(arr[i], method='dense')+1)\n",
    "timeRank2=np.array(timeRank2)\n",
    "print(timeRank2) #Reveresed 2D Ranked array'''\n",
    "\n"
   ]
  },
  {
   "cell_type": "code",
   "execution_count": 57,
   "metadata": {},
   "outputs": [
    {
     "name": "stdout",
     "output_type": "stream",
     "text": [
      "[[1 4 3 3 2]\n",
      " [1 4 5 3 2]]\n"
     ]
    }
   ],
   "source": [
    "mentorHour=mentor['Availability']\n",
    "menteeHour=mentee['Availability2']\n",
    "\n",
    "#creating a 2D array\n",
    "rows, cols = (len(menteeHour), len(mentorHour))\n",
    "arr=[]\n",
    "for i in range(rows):\n",
    "    col = []\n",
    "    for j in range(cols):\n",
    "        col.append(abs(mentorHour[j]-menteeHour[i]))\n",
    "    arr.append(col)\n",
    "#print(\"\\n\",arr)\n",
    "# Ranking of array in reverse order\n",
    "hourRank=[]\n",
    "from scipy.stats import rankdata\n",
    "for i in range (len(arr)) :\n",
    "    hourRank.append(rankdata(arr[i], method='dense'))\n",
    "#print(hourRank) #Ranked 2D array'''\n",
    "hourRank2=[]\n",
    "for i in range (len(hourRank)) :\n",
    "    hourRank2.append(max(hourRank[i]) - rankdata(arr[i], method='dense')+1)\n",
    "hourRank2=np.array(hourRank2)\n",
    "print(hourRank2) #Reveresed 2D Ranked array'''\n",
    "\n"
   ]
  },
  {
   "cell_type": "code",
   "execution_count": 65,
   "metadata": {},
   "outputs": [
    {
     "name": "stdout",
     "output_type": "stream",
     "text": [
      "[[[0 0 0 0 1]\n",
      "  [0 0 2 1 0]]\n",
      "\n",
      " [[1 3 1 1 2]\n",
      "  [1 2 1 1 3]]\n",
      "\n",
      " [[1 4 3 3 2]\n",
      "  [1 4 5 3 2]]]\n"
     ]
    }
   ],
   "source": [
    "finalRankedArray=[]\n",
    "finalRankedArray.append(column_sums)\n",
    "finalRankedArray.append(timeRank2)\n",
    "finalRankedArray.append(hourRank2)\n",
    "finalRankedArray=np.array(finalRankedArray)\n",
    "print(finalRankedArray)"
   ]
  },
  {
   "cell_type": "code",
   "execution_count": 66,
   "metadata": {},
   "outputs": [
    {
     "name": "stdout",
     "output_type": "stream",
     "text": [
      "[[2 7 4 4 5]\n",
      " [2 6 8 5 5]]\n"
     ]
    }
   ],
   "source": [
    "finalRankedArray=finalRankedArray.sum(axis=0)\n",
    "print(finalRankedArray)"
   ]
  },
  {
   "cell_type": "code",
   "execution_count": 97,
   "metadata": {
    "scrolled": true
   },
   "outputs": [
    {
     "name": "stdout",
     "output_type": "stream",
     "text": [
      "email                igsoul133@gmail.com  m,  m  kklk  bn\n",
      "email2                                                   \n",
      "igsoul133@gmail.com                    2   7  4     4   5\n",
      "mnnj                                   2   6  8     5   5\n"
     ]
    },
    {
     "name": "stderr",
     "output_type": "stream",
     "text": [
      "C:\\ProgramData\\Anaconda3\\lib\\site-packages\\pulp\\pulp.py:1352: UserWarning: Spaces are not permitted in the name. Converted to '_'\n",
      "  warnings.warn(\"Spaces are not permitted in the name. Converted to '_'\")\n"
     ]
    }
   ],
   "source": [
    "#The Pairing Algo :\n",
    "from pulp import *\n",
    "prob = LpProblem(\"Matching Employees\", LpMaximize)\n",
    "\n",
    "c = finalRankedArray\n",
    "MenteeNames =mentee['email2']\n",
    "MentorNames =mentor['email']\n",
    "\n",
    "match_info = pd.DataFrame(c, index=MenteeNames, columns=MentorNames)\n",
    "\n",
    "print(match_info)\n"
   ]
  },
  {
   "cell_type": "code",
   "execution_count": 98,
   "metadata": {
    "scrolled": true
   },
   "outputs": [
    {
     "name": "stdout",
     "output_type": "stream",
     "text": [
      "[1, 2]\n"
     ]
    }
   ],
   "source": [
    "\n",
    "MenteeNames =mentee['email2']\n",
    "MentorNames =mentor['email']\n",
    "MentorIndex=[]\n",
    "for i in range (len(finalRankedArray)):\n",
    "    maximum=max(finalRankedArray[i])\n",
    "    for j in range (len(finalRankedArray[0])):\n",
    "        if maximum==finalRankedArray[i][j]:\n",
    "            MentorIndex.append(j)\n",
    "\n",
    "print(MentorIndex)"
   ]
  },
  {
   "cell_type": "code",
   "execution_count": 96,
   "metadata": {},
   "outputs": [
    {
     "name": "stdout",
     "output_type": "stream",
     "text": [
      "igsoul133@gmail.com and m, with Total score: 7\n",
      "mnnj and m with Total score: 8\n"
     ]
    }
   ],
   "source": [
    "for i in range (len(finalRankedArray)):\n",
    "    maximum=max(finalRankedArray[i])\n",
    "    for j in range (len(finalRankedArray[0])):\n",
    "        if j==MentorIndex[i]:\n",
    "            print('{} and {} with Total score: {}'.format(MenteeNames[i],MentorNames[j],finalRankedArray[i][j]))\n",
    "\n"
   ]
  },
  {
   "cell_type": "code",
   "execution_count": null,
   "metadata": {},
   "outputs": [],
   "source": []
  }
 ],
 "metadata": {
  "kernelspec": {
   "display_name": "Python 3",
   "language": "python",
   "name": "python3"
  },
  "language_info": {
   "codemirror_mode": {
    "name": "ipython",
    "version": 3
   },
   "file_extension": ".py",
   "mimetype": "text/x-python",
   "name": "python",
   "nbconvert_exporter": "python",
   "pygments_lexer": "ipython3",
   "version": "3.8.5"
  }
 },
 "nbformat": 4,
 "nbformat_minor": 4
}
